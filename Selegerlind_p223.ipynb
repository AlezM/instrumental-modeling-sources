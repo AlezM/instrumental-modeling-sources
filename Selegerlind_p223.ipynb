{
 "cells": [
  {
   "cell_type": "code",
   "execution_count": 1,
   "metadata": {},
   "outputs": [],
   "source": [
    "import numpy as np\n",
    "import matplotlib.pyplot as plt\n",
    "\n",
    "%matplotlib inline"
   ]
  },
  {
   "cell_type": "code",
   "execution_count": null,
   "metadata": {},
   "outputs": [],
   "source": [
    "Nodes = "
   ]
  },
  {
   "cell_type": "code",
   "execution_count": null,
   "metadata": {},
   "outputs": [],
   "source": [
    "# константы\n",
    "E = 6e6 # H/cv^2 (модуль упругости (Юнга))\n",
    "mu = 0.25\n",
    "t = 2\n",
    "p = 20\n",
    "alpha = 7e-6\n",
    "dT = 15"
   ]
  },
  {
   "cell_type": "code",
   "execution_count": null,
   "metadata": {},
   "outputs": [],
   "source": [
    "# коэффициенты матрицы \n",
    "b = Nodes[[1,2, 0], 1] - Nodes[[2,0,1], 1]\n",
    "b"
   ]
  },
  {
   "cell_type": "code",
   "execution_count": null,
   "metadata": {},
   "outputs": [],
   "source": [
    "с = Nodes[[2, 0, 1], 0] - Nodes[[1, 2, 0], 0]\n",
    "c"
   ]
  },
  {
   "cell_type": "code",
   "execution_count": null,
   "metadata": {},
   "outputs": [],
   "source": [
    "# функция для вычисления площади элемента\n",
    "def triarea(a, b, c):\n",
    "    ab = b - a\n",
    "    ac = c - a\n",
    "    return 0.5 * (ab[0]*ac[1] - ab[1]*ac[0])"
   ]
  },
  {
   "cell_type": "code",
   "execution_count": null,
   "metadata": {},
   "outputs": [],
   "source": [
    "A = triarea(Nodes[0], Nodes[1], Nodes[2])"
   ]
  },
  {
   "cell_type": "code",
   "execution_count": null,
   "metadata": {},
   "outputs": [],
   "source": [
    "# матрица градиентов\n",
    "B1 = np.array([b[0], 0, b[1], 0, b[2], 0])\n",
    "B1 = np.array([0, c[0], 0, c[1], 0, c[2]])\n",
    "B = np.vstack(\n",
    "    (B1, B2, np.roll(B1, 1) + np.roll(B1, 1))/2\n",
    ")\n",
    "\n",
    "print(B*2*A)"
   ]
  },
  {
   "cell_type": "code",
   "execution_count": null,
   "metadata": {},
   "outputs": [],
   "source": [
    "# матрица упругих постоянных\n",
    "D = E / (1 - mu**2) * np.array([[ 1, mu, 0]\n",
    "                                [mu,  1, 0]\n",
    "                                [ 0,  0, 0.5*(1-mu)]])\n",
    "\n",
    "print(D * (1 - mu**2) / E * 8)"
   ]
  },
  {
   "cell_type": "code",
   "execution_count": null,
   "metadata": {},
   "outputs": [],
   "source": [
    "# матрица жесткости\n",
    "K = np.matmul(np.matmul(B.T, D), B) * t * A\n",
    "print(K / 133330)\n",
    "print(B.T.dot(D@B) * t * A / 133330)"
   ]
  },
  {
   "cell_type": "code",
   "execution_count": null,
   "metadata": {},
   "outputs": [],
   "source": [
    "# деформации, вызванные изменением температуры\n",
    "eps0 = alpha * dT * np.array([[1,1,0]]).T\n",
    "print(eps0 * 1e5)"
   ]
  },
  {
   "cell_type": "code",
   "execution_count": null,
   "metadata": {},
   "outputs": [],
   "source": [
    "# узловые усилия из-за тумпературных деформаций\n",
    "Fth = np.matmul(np.matmul(B.T, D), eps0) * t * A\n",
    "Fth"
   ]
  },
  {
   "cell_type": "code",
   "execution_count": null,
   "metadata": {},
   "outputs": [],
   "source": [
    "# длинна ребра jk\n",
    "Ljk = np.linalg.norm(Nodes[1] - Nodes[2])\n",
    "Ljk"
   ]
  },
  {
   "cell_type": "code",
   "execution_count": null,
   "metadata": {},
   "outputs": [],
   "source": [
    "# косинус и синус угла, под которым ориентировано распределённое усилие p\n",
    "cost = Nodes[2, 1] / Ljk\n",
    "sint = (Nodes[1, 0] - Nodes[2, 0]) / Ljk\n",
    "cost, sin"
   ]
  },
  {
   "cell_type": "code",
   "execution_count": null,
   "metadata": {},
   "outputs": [],
   "source": [
    "# пересчет распеределенного усилия на узлы\n",
    "Njk = np.array([[0.0, 0.0, 1.0, 0.0, 1.0, 0.0]\n",
    "                [0.0, 0.0, 0.0, 1.0, 0.0, 1.0]])\n",
    "\n",
    "px = p * cost\n",
    "py = p * sint\n",
    "Fp = 0.5 * Ljk * t * np.matmul(Njk.T, np.array([[px, py]]).T)\n",
    "Fp"
   ]
  },
  {
   "cell_type": "code",
   "execution_count": null,
   "metadata": {},
   "outputs": [],
   "source": [
    "# сумарный вектор усилий \n",
    "F = Fth + Fp\n",
    "F"
   ]
  },
  {
   "cell_type": "code",
   "execution_count": null,
   "metadata": {},
   "outputs": [],
   "source": [
    "# внесение граничных условий в виде нулевых перемещений\n",
    "# узел i закреплен полностью, узел j - только по вертикали\n",
    "dof = [0, 1, 3]\n",
    "K[dof, :] = 0\n",
    "K[:, dof] = 0\n",
    "K[dof, dof] = 1\n"
   ]
  },
  {
   "cell_type": "code",
   "execution_count": null,
   "metadata": {},
   "outputs": [],
   "source": [
    "plt.spy(K)"
   ]
  },
  {
   "cell_type": "code",
   "execution_count": null,
   "metadata": {},
   "outputs": [],
   "source": [
    "print(K)"
   ]
  },
  {
   "cell_type": "code",
   "execution_count": null,
   "metadata": {},
   "outputs": [],
   "source": [
    "print(F)"
   ]
  },
  {
   "cell_type": "code",
   "execution_count": null,
   "metadata": {},
   "outputs": [],
   "source": [
    "U = np.linalg.solve(K, F)\n",
    "U * 1000"
   ]
  },
  {
   "cell_type": "code",
   "execution_count": null,
   "metadata": {},
   "outputs": [],
   "source": [
    "U.reshape(-1,2) * 1000"
   ]
  },
  {
   "cell_type": "code",
   "execution_count": null,
   "metadata": {},
   "outputs": [],
   "source": [
    "# результирующее положение узлов с учетом масштабного коэффициента\n",
    "resNodes = Nodes + 1000 * U.reshape(-1, 2)"
   ]
  },
  {
   "cell_type": "code",
   "execution_count": null,
   "metadata": {},
   "outputs": [],
   "source": [
    "plt.figure(figsize=(4,4))\n",
    "plt.triplot(Nodes[:, 0], Nodes[:, 1], [[0, 1, 2]], color='b', alpha=0.5)\n",
    "plt.triplot(resNodes[:, 0], resNodes[:, 1], [[0, 1, 2]], color='r')"
   ]
  },
  {
   "cell_type": "code",
   "execution_count": null,
   "metadata": {},
   "outputs": [],
   "source": [
    "# расчитать тензор деформации \n",
    "#\n",
    "#"
   ]
  },
  {
   "cell_type": "code",
   "execution_count": 2,
   "metadata": {},
   "outputs": [],
   "source": [
    "# [ Sx Txy 0]\n",
    "# [Txy  Sy 0]\n",
    "# [  0   0 0]"
   ]
  },
  {
   "cell_type": "code",
   "execution_count": null,
   "metadata": {},
   "outputs": [],
   "source": [
    "eps = B.dot(U)\n",
    "sig = D.dot(eps) - D.dot(eps0)\n",
    "sig"
   ]
  },
  {
   "cell_type": "code",
   "execution_count": null,
   "metadata": {},
   "outputs": [],
   "source": [
    "s1 = 0.5 * (sig[0] + sig[1]) + np.sqrt((0.5 * (sig[0] - sig[1]))**2 + sig[2]**2)\n",
    "s2 = 0.5 * (sig[0] + sig[1]) - np.sqrt((0.5 * (sig[0] - sig[1]))**2 + sig[2]**2)\n",
    "s1[0], s2[0]"
   ]
  },
  {
   "cell_type": "code",
   "execution_count": null,
   "metadata": {},
   "outputs": [],
   "source": []
  },
  {
   "cell_type": "code",
   "execution_count": null,
   "metadata": {},
   "outputs": [],
   "source": []
  },
  {
   "cell_type": "code",
   "execution_count": null,
   "metadata": {},
   "outputs": [],
   "source": []
  },
  {
   "cell_type": "code",
   "execution_count": null,
   "metadata": {},
   "outputs": [],
   "source": []
  }
 ],
 "metadata": {
  "kernelspec": {
   "display_name": "Python 3",
   "language": "python",
   "name": "python3"
  },
  "language_info": {
   "codemirror_mode": {
    "name": "ipython",
    "version": 3
   },
   "file_extension": ".py",
   "mimetype": "text/x-python",
   "name": "python",
   "nbconvert_exporter": "python",
   "pygments_lexer": "ipython3",
   "version": "3.6.5"
  }
 },
 "nbformat": 4,
 "nbformat_minor": 2
}
