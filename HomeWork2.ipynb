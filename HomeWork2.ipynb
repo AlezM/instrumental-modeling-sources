{
 "cells": [
  {
   "cell_type": "markdown",
   "metadata": {},
   "source": [
    "## Вариант 3\n",
    "- Параметры задачи: радиусы R1, R2.\n",
    "- Второй критерий: прочность 1.\n",
    "- Метод многокритериальной оптимизации: 3\n",
    "- Граничные условия:\n",
    "- Зона А - полное закрепление.\n",
    "- Зона 𝐵 - распределенное усилие, направленное по касательной в каждой точке зоны, чтобы\n",
    "соответствовать \"вращению\" восьмиугольника по часовой стрелке.\n",
    "- Минимальный размер элемента - 10 см.\n",
    "- Описание детали:\n",
    "- Деталь - квадрат с 4-мя одинаковыми отверстиями в форме равнобедренных прямоугольных\n",
    "треугольников и одним восьмиугольным отверстием по центру. Вершины прямых углов всех отверстий 𝐴 находятся на окружности радиуса R2. Гипотенузы треугольных отверстий равны стороне восьмиугольника."
   ]
  },
  {
   "cell_type": "markdown",
   "metadata": {},
   "source": [
    "![Image of part](./Detail2.png)"
   ]
  },
  {
   "cell_type": "code",
   "execution_count": 1,
   "metadata": {},
   "outputs": [],
   "source": [
    "from IPython.display import Image\n",
    "from IPython.core.display import HTML \n",
    "import numpy as np\n",
    "import scipy.optimize\n",
    "import scipy.spatial\n",
    "import matplotlib.pyplot as plt\n",
    "%matplotlib inline"
   ]
  },
  {
   "cell_type": "code",
   "execution_count": 2,
   "metadata": {},
   "outputs": [],
   "source": [
    "def rotate(alpha, points=None, point=None):\n",
    "    c, s = np.cos(np.radians(alpha)), np.sin(np.radians(alpha))\n",
    "    mat = np.matrix('{} {}; {} {}'.format(c, -s, s, c))\n",
    "    if point is not None:\n",
    "        return np.array(mat.dot(point)).reshape(-1, 2)\n",
    "    elif points is not None:\n",
    "        return np.array([\n",
    "            mat.dot(points[i]) for i in range(len(points))\n",
    "        ]).reshape(-1, 2)"
   ]
  },
  {
   "cell_type": "code",
   "execution_count": 3,
   "metadata": {},
   "outputs": [],
   "source": [
    "def detail_main_parts(R1, R2, L):\n",
    "    border = np.array([\n",
    "        rotate(\n",
    "            i * 90,\n",
    "            point=np.array([L/2, L/2])\n",
    "        )\n",
    "        for i in range(5)\n",
    "    ]).reshape(-1, 2)\n",
    "    \n",
    "    # Найдём сторону 8угольника\n",
    "    # https://ru.wikipedia.org/wiki/Правильный_восьмиугольник\n",
    "    k = 1 + np.sqrt(2)\n",
    "    t = 2 * R1 / k\n",
    "    R1_O = t * np.sqrt(k/(k-1)) \n",
    "    \n",
    "    # Построим треугольник:\n",
    "    #  катет треугольника\n",
    "    kat = t / np.sqrt(2)\n",
    "    triangle = np.array([\n",
    "        [0, 0],\n",
    "        [0, -kat],\n",
    "        [-kat, 0],\n",
    "        [0, 0]\n",
    "    ]) + [R2 / np.sqrt(2), R2 / np.sqrt(2)]\n",
    "    \n",
    "    \n",
    "    # Построим восьмиугольник\n",
    "    p = rotate(-45 / 2, point=[0, R1_O])[0]\n",
    "    octagon = np.array([\n",
    "        rotate(\n",
    "            i * 45,\n",
    "            point=p\n",
    "        )\n",
    "        for i in range(9)\n",
    "    ]).reshape(-1, 2)\n",
    "    \n",
    "    return border, triangle, octagon"
   ]
  },
  {
   "cell_type": "code",
   "execution_count": 4,
   "metadata": {},
   "outputs": [],
   "source": [
    "def split_border(Nodes,N,closed=False):\n",
    "    points_x = np.array([])\n",
    "    points_y = np.array([])\n",
    "    for i in range(Nodes.shape[0]-2):\n",
    "        points_x = np.append(points_x, np.linspace(Nodes[i,0], Nodes[i+1,0], int(N[i]))[:-1])\n",
    "        points_y = np.append(points_y, np.linspace(Nodes[i,1], Nodes[i+1,1], int(N[i]))[:-1])\n",
    "        \n",
    "    if not closed:   \n",
    "        points_x = np.append(points_x, np.linspace(Nodes[-2,0], Nodes[-1,0], int(N[-1])))\n",
    "        points_y = np.append(points_y, np.linspace(Nodes[-2,1], Nodes[-1,1], N[-1]))\n",
    "    if closed:\n",
    "        points_x = np.append(points_x, np.linspace(Nodes[-2,0], Nodes[-1,0], int(N[-1]))[:-1])\n",
    "        points_y = np.append(points_y, np.linspace(Nodes[-2,1], Nodes[-1,1], int(N[-1]))[:-1])\n",
    "    \n",
    "    \n",
    "    return np.hstack((points_x.reshape(-1,1),points_y.reshape(-1,1)))"
   ]
  },
  {
   "cell_type": "code",
   "execution_count": 47,
   "metadata": {},
   "outputs": [],
   "source": [
    "def show_parts(*parts, **kwargs):\n",
    "    plt.figure(figsize=(14,8))\n",
    "    plt.grid(True)\n",
    "    plt.axis('equal')\n",
    "    for part in parts:\n",
    "        plt.plot(part[:,0],part[:,1], '.-', c='r')"
   ]
  },
  {
   "cell_type": "code",
   "execution_count": 48,
   "metadata": {},
   "outputs": [],
   "source": [
    "def show_detail(border, triangles, octagon, inner=None):\n",
    "   \n",
    "    #show_parts(\n",
    "    #    split_border(border,       rect_segs, closed=True),\n",
    "    #    split_border(triangles[0], tri_segs, closed=True),\n",
    "    #    split_border(triangles[1], tri_segs, closed=True),\n",
    "    #    split_border(triangles[2], tri_segs, closed=True),\n",
    "    #    split_border(triangles[3], tri_segs, closed=True),\n",
    "    #    split_border(octagon,      oct_segs, closed=True)\n",
    "    #)\n",
    "    \n",
    "    show_parts(\n",
    "        border, \n",
    "        triangles[0], triangles[1], triangles[2], triangles[3],\n",
    "        octagon\n",
    "    )\n",
    "    \n",
    "    if inner is not None:\n",
    "        plt.plot(inner[:,0],inner[:,1],'.')"
   ]
  },
  {
   "cell_type": "code",
   "execution_count": 49,
   "metadata": {},
   "outputs": [],
   "source": [
    "def plot_contour_map(ResNodes, NodeS1, border, octagon, simplices, fixed_elems, force_elems):\n",
    "    i_max = np.argmax(NodeS1)\n",
    "    i_min = np.argmin(NodeS1)\n",
    "    plt.figure(figsize=(15,15))\n",
    "    levels = np.linspace(NodeS1[i_min], NodeS1[i_max], 12)\n",
    "    handle = plt.tricontourf(ResNodes[:,0], ResNodes[:, 1], simplices, NodeS1.ravel(), cmap='jet',levels=levels)\n",
    "    plt.tricontour(ResNodes[:, 0], ResNodes[:, 1], simplices, \n",
    "                  NodeS1.ravel(), colors='k', levels=levels)\n",
    "    plt.plot(border[:,0],border[:,1],'r','-')\n",
    "    plt.plot(octagon[:,0],octagon[:,1],'r','-')\n",
    "    \n",
    "    for elem in fixed_elems:\n",
    "        plt.plot(ResNodes[elem,0],ResNodes[elem,1],'.k')\n",
    "        #plt.text(ResNodes[elem,0],ResNodes[elem,1],'({}) {:.2f}'.format(elem,NodeS1[elem]),fontsize=12)\n",
    "    \n",
    "    for elem in force_elems:\n",
    "        plt.plot(ResNodes[elem,0],ResNodes[elem,1],'.r')\n",
    "        #plt.text(ResNodes[elem,0]-2.5,ResNodes[elem,1],'({}) {:.2f}'.format(elem,NodeS1[elem]),fontsize=12)\n",
    "    \n",
    "    \n",
    "    plt.text(ResNodes[i_max,0], ResNodes[i_max,1], ' %.2f'%NodeS1[i_max],fontsize=20, color='white', bbox={'facecolor':'red', 'alpha':0.5, 'pad':0})\n",
    "    plt.plot(ResNodes[i_max,0], ResNodes[i_max,1], '.b')\n",
    "    plt.text(ResNodes[i_min,0], ResNodes[i_min,1], ' %.2f'%NodeS1[i_min],fontsize=20, color='white', bbox={'facecolor':'red', 'alpha':0.5, 'pad':0})\n",
    "    plt.plot(ResNodes[i_min,0], ResNodes[i_min,1], '.r')\n",
    "    \n",
    "    \n",
    "    cb = plt.gcf().colorbar(handle)\n",
    "    cb.set_ticks(levels)\n",
    "    plt.title('Поле главных напряжений в узлах, Н/см$^2$')\n",
    "    plt.xlabel('X, см')\n",
    "    plt.ylabel('Y, см')\n",
    "    plt.axis('equal')\n",
    "    plt.ylim((-80, 80))"
   ]
  },
  {
   "cell_type": "code",
   "execution_count": 50,
   "metadata": {},
   "outputs": [],
   "source": [
    "def detail_border(R1, R2, L=150, segs_factor=2):\n",
    "    border, triangle, octagon = detail_main_parts(R1, R2, L)\n",
    "    \n",
    "    triangles = np.array([\n",
    "        triangle, \n",
    "        rotate(90, points=triangle), \n",
    "        rotate(180, points=triangle), \n",
    "        rotate(270, points=triangle)\n",
    "    ])\n",
    "    \n",
    "    return border, triangles, octagon"
   ]
  },
  {
   "cell_type": "code",
   "execution_count": null,
   "metadata": {},
   "outputs": [],
   "source": []
  },
  {
   "cell_type": "code",
   "execution_count": null,
   "metadata": {},
   "outputs": [],
   "source": []
  },
  {
   "cell_type": "code",
   "execution_count": 51,
   "metadata": {},
   "outputs": [],
   "source": [
    "def line(p1,p2,x):\n",
    "    return p1[1]+(p2[1]-p1[1])*((x-p1[0])/(p2[0]-p1[0]))"
   ]
  },
  {
   "cell_type": "code",
   "execution_count": 52,
   "metadata": {},
   "outputs": [],
   "source": [
    "def outside_octagon_mask(inner, octagon):\n",
    "    mask1 = (inner[:,1]<octagon[0][1]) & (inner[:,1]>octagon[4][1]) & (inner[:,0]>octagon[2][0]) & (inner[:,0]<octagon[6][0])\n",
    "   \n",
    "    mask2 = (inner[:,1] < line(octagon[1],octagon[2],inner[:,0]))\n",
    "    mask3 = (inner[:,1] < line(octagon[0],octagon[7],inner[:,0])) \n",
    "    mask4 = (inner[:,1] > line(octagon[3],octagon[4],inner[:,0]))\n",
    "    mask5 = (inner[:,1] > line(octagon[5],octagon[6],inner[:,0]))\n",
    "\n",
    "    return np.logical_not(mask1 & mask2 & mask3 & mask4 & mask5)"
   ]
  },
  {
   "cell_type": "code",
   "execution_count": 53,
   "metadata": {},
   "outputs": [],
   "source": [
    "def outside_triangles_mask(inner, triangles):\n",
    "    \n",
    "    mask0 = np.array([np.all(p < triangles[0, 0]) and np.all(p > -triangles[0, 0]) for p in inner])\n",
    "    \n",
    "    octagon1 = np.array([tri[1:-1] for tri in triangles]).reshape(-1, 2)\n",
    "    octagon1 = np.roll(octagon1, -1, axis=0)\n",
    "    \n",
    "    mask1 = outside_octagon_mask(inner, octagon1)\n",
    "    \n",
    "    return mask1 & mask0"
   ]
  },
  {
   "cell_type": "code",
   "execution_count": 99,
   "metadata": {},
   "outputs": [],
   "source": [
    "def detail_inner(octagon, triangles, density=25, offset=5, L=150):\n",
    "    X, Y = np.meshgrid(\n",
    "        np.linspace(-L / 2 + offset,  L / 2 - offset, density), \n",
    "        np.linspace( L / 2 - offset, -L / 2 + offset, density)\n",
    "    )  \n",
    "    \n",
    "    inner = np.vstack((X.ravel(), Y.ravel())).T\n",
    "    \n",
    "    mask1 = outside_octagon_mask(inner, octagon * 1.02)\n",
    "    mask2 = outside_triangles_mask(inner, triangles)\n",
    "    \n",
    "    mask = mask1 & ~mask2\n",
    "    \n",
    "    inner = inner[mask]\n",
    "    \n",
    "    return inner"
   ]
  },
  {
   "cell_type": "code",
   "execution_count": 188,
   "metadata": {},
   "outputs": [],
   "source": [
    "def detail(R1, R2, segs_factor=1):\n",
    "    border, triangles, octagon = detail_border(R1, R2, segs_factor=20)\n",
    "    inner = detail_inner(octagon, triangles, density=60, offset=2)\n",
    "    \n",
    "    rect_segs = np.array([17] * 4) * segs_factor\n",
    "    tri_segs = np.array([4, 5, 4]) * segs_factor\n",
    "    oct_segs = np.array([5] * 8)   * segs_factor\n",
    "    \n",
    "    border1 = split_border(border, rect_segs, closed=True)\n",
    "    triangles1 = np.array([\n",
    "        split_border(triangles[0], tri_segs, closed=True),\n",
    "        split_border(triangles[1], tri_segs, closed=True),\n",
    "        split_border(triangles[2], tri_segs, closed=True),\n",
    "        split_border(triangles[3], tri_segs, closed=True)\n",
    "    ])\n",
    "    octagon1 = split_border(octagon, oct_segs, closed=True)\n",
    "    \n",
    "    Nodes = np.vstack((border1, triangles1[0], triangles1[1], triangles1[2], triangles1[3], octagon1,inner))\n",
    "    \n",
    "    #show_detail(border1, triangles1, octagon1, inner)\n",
    "    #plt.figure(figsize=(15,15))\n",
    "    #plt.plot(Nodes[:,0], Nodes[:,1], '.')\n",
    "    \n",
    "    return Nodes, border, triangles, octagon, inner, len(border1), len(border1) + len(triangles1[0]) * 4, len(border1) + len(triangles1[0]) * 4 + len(octagon1)"
   ]
  },
  {
   "cell_type": "code",
   "execution_count": null,
   "metadata": {},
   "outputs": [],
   "source": []
  },
  {
   "cell_type": "code",
   "execution_count": null,
   "metadata": {},
   "outputs": [],
   "source": []
  },
  {
   "cell_type": "code",
   "execution_count": 189,
   "metadata": {},
   "outputs": [],
   "source": [
    "def triarea(a, b, c):\n",
    "    ab = b - a\n",
    "    ac = c - a\n",
    "    return 0.5 * (ab[:,0]*ac[:,1] - ab[:,1]*ac[:,0])"
   ]
  },
  {
   "cell_type": "code",
   "execution_count": 190,
   "metadata": {},
   "outputs": [],
   "source": [
    "def FEM(nodes, simplices, e, mu, t, p, fixed_elems, forced_elems):\n",
    "    # расчет матрицы градиентов\n",
    "    trng_vertices2 = nodes[simplices] # Пересчитаем, т.к. надо учитывать маски\n",
    "    A = triarea(trng_vertices2[:,0], trng_vertices2[:,1], trng_vertices2[:,2]) # площади треугольников\n",
    "    b = trng_vertices2[:, [1,2,0], 1] - trng_vertices2[:, [2, 0, 1], 1]\n",
    "    c = trng_vertices2[:, [2,0,1], 0] - trng_vertices2[:, [1, 2, 0], 0]\n",
    "    z = np.zeros_like(b[:,0])\n",
    "    B1 = np.stack((b[:,0], z, b[:,1], z, b[:,2], z), axis=1)\n",
    "    B2 = np.stack((z, c[:,0], z, c[:,1], z, c[:,2]), axis=1)\n",
    "    B3 = np.stack((c[:,0], b[:,0], c[:,1], b[:,1], c[:,2], b[:,2]), axis=1)\n",
    "    B = np.stack((B1, B2, B3), axis=1) # матрица градиентов\n",
    "    \n",
    "    # расчет глобальной матрицы жесткости\n",
    "    coef = 1/(2*A)\n",
    "    B *= coef.reshape(-1, 1, 1)\n",
    "    D = e / (1 - mu**2)*np.array([[1,mu,0], [mu,1,0], [0,0,0.5*(1-mu)]])\n",
    "    BT = np.transpose(B, axes=(0,2,1))\n",
    "    Ke = np.matmul(np.matmul(BT, D), B)*t*A.reshape(-1, 1, 1)\n",
    "    coords0 = simplices[:, 0].reshape(-1, 1)\n",
    "    coords1 = simplices[:, 1].reshape(-1, 1)\n",
    "    coords2 = simplices[:, 2].reshape(-1, 1)\n",
    "    EFT = np.hstack((coords0*2, coords0*2+1, coords1*2, coords1*2+1, coords2*2, coords2*2+1))\n",
    "    Nn = nodes.shape[0]\n",
    "    K = np.zeros((2*Nn, 2*Nn))\n",
    "    for i in range(simplices.shape[0]):\n",
    "        K[EFT[i, np.newaxis].T,EFT[i]] += Ke[i]\n",
    "    dof = np.hstack((fixed_elems*2, fixed_elems*2+1))\n",
    "    K[dof,:] = 0\n",
    "    K[:,dof] = 0\n",
    "    K[dof,dof] = 1\n",
    "    \n",
    "    # расчет силы, действующей на элементы\n",
    "    F = np.zeros(2*Nn)\n",
    "    edges_L = np.sqrt(np.sum((nodes[forced_elems[1:]]-nodes[forced_elems[:-1]])**2,axis=1))\n",
    "    edges_F = np.ones((len(forced_elems),)) * p / edges_L[0]\n",
    "\n",
    "    \n",
    "    forced_elems_ext = np.append(np.append(forced_elems[-1], forced_elems), forced_elems[0]) \n",
    "    vecs = np.array([ \n",
    "        (nodes[i-1] - nodes[i+1]) / np.linalg.norm(nodes[i-1] - nodes[i+1]) for i in forced_elems_ext[1: -1] \n",
    "    ])\n",
    "    \n",
    "    # cos\n",
    "    F[forced_elems*2] += edges_F * vecs[:, 0]\n",
    "    \n",
    "    # sin\n",
    "    F[forced_elems*2+1] += edges_F * vecs[:, 1]\n",
    "    \n",
    "    F[dof] = 0\n",
    "    \n",
    "    # расчет перемещений\n",
    "    U = np.linalg.solve(K, F)\n",
    "    \n",
    "    # расчет напряжений и главных напряжений\n",
    "    Ue = U[EFT, None] # матрица перемещений\n",
    "    Eps = np.matmul(B, Ue) # тензор деформаций\n",
    "    Sig = np.matmul(D, Eps) # тензор напряжений\n",
    "    NodeA = np.zeros((Nn,1)) \n",
    "    NodeSig = np.zeros((Nn,3))\n",
    "    for i, e in enumerate(simplices):\n",
    "        NodeSig[e] += Sig[i].T*A[i]\n",
    "        NodeA[e] += A[i]\n",
    "    NodeSig /= NodeA\n",
    "    NodeS1 = 0.5*(NodeSig[:,0]+NodeSig[:,1])+\\\n",
    "         np.sqrt((0.5*(NodeSig[:,0]-NodeSig[:,1]))**2+NodeSig[:,2]**2)\n",
    "    \n",
    "    return U, NodeS1"
   ]
  },
  {
   "cell_type": "code",
   "execution_count": null,
   "metadata": {},
   "outputs": [],
   "source": []
  },
  {
   "cell_type": "code",
   "execution_count": 191,
   "metadata": {},
   "outputs": [],
   "source": [
    "def WTF(R1, R2):\n",
    "    Nodes, border, triangles, octagon, inner, forced_i_start, forced_i_end, fixed_i_end = detail(R1, R2, segs_factor=3)\n",
    "    \n",
    "    trng = scipy.spatial.Delaunay(Nodes)\n",
    "    \n",
    "    trng_vertices = Nodes[trng.simplices]\n",
    "    trng_x_verices = trng_vertices[:,:,0]\n",
    "    trng_y_verices = trng_vertices[:,:,1]\n",
    "    trng_x_mean = np.mean(trng_x_verices,axis=1)\n",
    "    trng_y_mean = np.mean(trng_y_verices,axis=1)\n",
    "\n",
    "    trng_centers = np.hstack((trng_x_mean.reshape(-1,1),trng_y_mean.reshape(-1,1)))\n",
    "\n",
    "    \n",
    "    #masks\n",
    "    mask1 = outside_octagon_mask(trng_centers, octagon) \n",
    "    mask2 = outside_triangles_mask(trng_centers, triangles)\n",
    "    mask =  mask1 & ~mask2\n",
    "\n",
    "    simplices = trng.simplices.copy()\n",
    "    simplices = simplices[mask]\n",
    "    \n",
    "    \n",
    "    # plt.figure(figsize=(14,8))\n",
    "    # plt.triplot(Nodes[:,0],Nodes[:,1],simplices)\n",
    "    # plt.axis('equal')\n",
    "    \n",
    "    # print(forced_i_start, forced_i_end)\n",
    "    \n",
    "    # plt.figure(figsize=(15,15))\n",
    "    # plt.plot(Nodes[forced_i_start : fixed_i_end, 0], Nodes[forced_i_start : fixed_i_end, 1],'.',c='r')\n",
    "    # for i, p in enumerate(Nodes[forced_i_start : fixed_i_end]):\n",
    "    #     plt.text(p[0], p[1], ' %d'%i)\n",
    "    # plt.axis('equal')\n",
    "    # plt.grid(True)\n",
    "    \n",
    "    \n",
    "    fixed = np.array(range(forced_i_start, forced_i_end))\n",
    "    forced = np.array(range(forced_i_end, fixed_i_end))\n",
    "\n",
    "    U, NodeS1 = FEM(Nodes, simplices, e=22e6, mu=0.31, t=1, p=1000, fixed_elems=fixed, forced_elems=forced)\n",
    "    scale = 10\n",
    "    ResNodes = Nodes + scale*U.reshape(-1, 2)\n",
    "    plot_contour_map(ResNodes, NodeS1, border, octagon, simplices, fixed, forced)\n",
    "    \n",
    "    "
   ]
  },
  {
   "cell_type": "code",
   "execution_count": 192,
   "metadata": {
    "scrolled": false
   },
   "outputs": [
    {
     "data": {
      "image/png": "[encoded data removed]",
      "text/plain": [
       "<Figure size 1080x1080 with 2 Axes>"
      ]
     },
     "metadata": {},
     "output_type": "display_data"
    }
   ],
   "source": [
    "WTF(10, 80)"
   ]
  },
  {
   "cell_type": "code",
   "execution_count": null,
   "metadata": {},
   "outputs": [],
   "source": []
  },
  {
   "cell_type": "code",
   "execution_count": null,
   "metadata": {},
   "outputs": [],
   "source": []
  },
  {
   "cell_type": "code",
   "execution_count": null,
   "metadata": {},
   "outputs": [],
   "source": []
  },
  {
   "cell_type": "code",
   "execution_count": null,
   "metadata": {},
   "outputs": [],
   "source": []
  }
 ],
 "metadata": {
  "kernelspec": {
   "display_name": "Python 3",
   "language": "python",
   "name": "python3"
  },
  "language_info": {
   "codemirror_mode": {
    "name": "ipython",
    "version": 3
   },
   "file_extension": ".py",
   "mimetype": "text/x-python",
   "name": "python",
   "nbconvert_exporter": "python",
   "pygments_lexer": "ipython3",
   "version": "3.6.5"
  }
 },
 "nbformat": 4,
 "nbformat_minor": 2
}
